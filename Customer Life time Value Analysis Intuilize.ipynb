{
 "cells": [
  {
   "cell_type": "markdown",
   "metadata": {},
   "source": [
    "In E-Commerce or retail business, the relationship between businesses and customers are non-contractual relationship. In the non-contractual world, customers do go away, but they do so silently; they have no need to tell us they are leaving. This makes for a much trickier CLV calculation. We have to look at the time since a customer’s last transaction and ask a question: is the customer alive but dormant, or is the customer “dead” (“alive” means customers interact with us, “die” means they become inactive as customers)?\n",
    "\n",
    "So, here we are: modelling customer lifetime value for non-contractual business.\n",
    "\n",
    "The analysis is drawn upon Dr. Peter Fader of Wharton. We will not dive deeply into the math of CLV in this analysis. However, if you are interest, here is the Paper."
   ]
  },
  {
   "cell_type": "markdown",
   "metadata": {},
   "source": [
    "#### Import Packages, reading the csv data into pandas dataframe for further manipulations and measures."
   ]
  },
  {
   "cell_type": "code",
   "execution_count": 33,
   "metadata": {},
   "outputs": [
    {
     "data": {
      "text/html": [
       "<div>\n",
       "<style scoped>\n",
       "    .dataframe tbody tr th:only-of-type {\n",
       "        vertical-align: middle;\n",
       "    }\n",
       "\n",
       "    .dataframe tbody tr th {\n",
       "        vertical-align: top;\n",
       "    }\n",
       "\n",
       "    .dataframe thead th {\n",
       "        text-align: right;\n",
       "    }\n",
       "</style>\n",
       "<table border=\"1\" class=\"dataframe\">\n",
       "  <thead>\n",
       "    <tr style=\"text-align: right;\">\n",
       "      <th></th>\n",
       "      <th>Unnamed: 0</th>\n",
       "      <th>InvoiceNo</th>\n",
       "      <th>StockCode</th>\n",
       "      <th>Quantity Shipped</th>\n",
       "      <th>Year</th>\n",
       "      <th>Invoice Date</th>\n",
       "      <th>UnitPrice</th>\n",
       "      <th>Ext-Price</th>\n",
       "      <th>CustomerID</th>\n",
       "      <th>Country</th>\n",
       "      <th>GM%</th>\n",
       "      <th>Shipper</th>\n",
       "      <th>COST</th>\n",
       "      <th>EXT COST</th>\n",
       "      <th>REGION</th>\n",
       "      <th>SALES P</th>\n",
       "      <th>OrderPeriod</th>\n",
       "    </tr>\n",
       "  </thead>\n",
       "  <tbody>\n",
       "    <tr>\n",
       "      <th>0</th>\n",
       "      <td>0</td>\n",
       "      <td>568200</td>\n",
       "      <td>PADS</td>\n",
       "      <td>5.00</td>\n",
       "      <td>2,017</td>\n",
       "      <td>2017-09-25 00:00:00+00:00</td>\n",
       "      <td>1.0</td>\n",
       "      <td>$5.00</td>\n",
       "      <td>16198</td>\n",
       "      <td>United Kingdom</td>\n",
       "      <td>0%</td>\n",
       "      <td>Delivery Truck</td>\n",
       "      <td>1.0</td>\n",
       "      <td>4.999763</td>\n",
       "      <td>SOUTH</td>\n",
       "      <td>GRACE J</td>\n",
       "      <td>2017-09</td>\n",
       "    </tr>\n",
       "    <tr>\n",
       "      <th>1</th>\n",
       "      <td>1</td>\n",
       "      <td>568375</td>\n",
       "      <td>BANK CHARGES</td>\n",
       "      <td>5.00</td>\n",
       "      <td>2,017</td>\n",
       "      <td>2017-09-26 00:00:00+00:00</td>\n",
       "      <td>1.0</td>\n",
       "      <td>$5.00</td>\n",
       "      <td>13405</td>\n",
       "      <td>United Kingdom</td>\n",
       "      <td>100%</td>\n",
       "      <td>UPS Next day Air</td>\n",
       "      <td>0.0</td>\n",
       "      <td>0.000000</td>\n",
       "      <td>WEST</td>\n",
       "      <td>JEFF Y</td>\n",
       "      <td>2017-09</td>\n",
       "    </tr>\n",
       "    <tr>\n",
       "      <th>2</th>\n",
       "      <td>2</td>\n",
       "      <td>561226</td>\n",
       "      <td>PADS</td>\n",
       "      <td>5.00</td>\n",
       "      <td>2,017</td>\n",
       "      <td>2017-07-26 00:00:00+00:00</td>\n",
       "      <td>1.0</td>\n",
       "      <td>$5.00</td>\n",
       "      <td>15618</td>\n",
       "      <td>United Kingdom</td>\n",
       "      <td>0%</td>\n",
       "      <td>Delivery Truck</td>\n",
       "      <td>1.0</td>\n",
       "      <td>4.999763</td>\n",
       "      <td>SOUTH</td>\n",
       "      <td>GRACE J</td>\n",
       "      <td>2017-07</td>\n",
       "    </tr>\n",
       "    <tr>\n",
       "      <th>3</th>\n",
       "      <td>3</td>\n",
       "      <td>2550193</td>\n",
       "      <td>PADS</td>\n",
       "      <td>7.08</td>\n",
       "      <td>2,018</td>\n",
       "      <td>2018-06-08 00:00:00+00:00</td>\n",
       "      <td>1.0</td>\n",
       "      <td>$7.08</td>\n",
       "      <td>13952</td>\n",
       "      <td>United Kingdom</td>\n",
       "      <td>0%</td>\n",
       "      <td>UPS ground 2nd day</td>\n",
       "      <td>1.0</td>\n",
       "      <td>7.079664</td>\n",
       "      <td>CENTRAL</td>\n",
       "      <td>PETER T</td>\n",
       "      <td>2018-06</td>\n",
       "    </tr>\n",
       "    <tr>\n",
       "      <th>4</th>\n",
       "      <td>4</td>\n",
       "      <td>550193</td>\n",
       "      <td>PADS</td>\n",
       "      <td>5.00</td>\n",
       "      <td>2,017</td>\n",
       "      <td>2017-04-15 00:00:00+00:00</td>\n",
       "      <td>1.0</td>\n",
       "      <td>$5.00</td>\n",
       "      <td>13952</td>\n",
       "      <td>United Kingdom</td>\n",
       "      <td>0%</td>\n",
       "      <td>UPS ground 2nd day</td>\n",
       "      <td>1.0</td>\n",
       "      <td>4.999763</td>\n",
       "      <td>CENTRAL</td>\n",
       "      <td>PETER T</td>\n",
       "      <td>2017-04</td>\n",
       "    </tr>\n",
       "  </tbody>\n",
       "</table>\n",
       "</div>"
      ],
      "text/plain": [
       "   Unnamed: 0 InvoiceNo     StockCode  Quantity Shipped    Year   \\\n",
       "0           0    568200          PADS              5.00   2,017    \n",
       "1           1    568375  BANK CHARGES              5.00   2,017    \n",
       "2           2    561226          PADS              5.00   2,017    \n",
       "3           3   2550193          PADS              7.08   2,018    \n",
       "4           4    550193          PADS              5.00   2,017    \n",
       "\n",
       "                Invoice Date  UnitPrice  Ext-Price   CustomerID  \\\n",
       "0  2017-09-25 00:00:00+00:00        1.0      $5.00        16198   \n",
       "1  2017-09-26 00:00:00+00:00        1.0      $5.00        13405   \n",
       "2  2017-07-26 00:00:00+00:00        1.0      $5.00        15618   \n",
       "3  2018-06-08 00:00:00+00:00        1.0      $7.08        13952   \n",
       "4  2017-04-15 00:00:00+00:00        1.0      $5.00        13952   \n",
       "\n",
       "          Country   GM%             Shipper  COST  EXT COST   REGION  SALES P  \\\n",
       "0  United Kingdom    0%      Delivery Truck   1.0  4.999763    SOUTH  GRACE J   \n",
       "1  United Kingdom  100%    UPS Next day Air   0.0  0.000000     WEST   JEFF Y   \n",
       "2  United Kingdom    0%      Delivery Truck   1.0  4.999763    SOUTH  GRACE J   \n",
       "3  United Kingdom    0%  UPS ground 2nd day   1.0  7.079664  CENTRAL  PETER T   \n",
       "4  United Kingdom    0%  UPS ground 2nd day   1.0  4.999763  CENTRAL  PETER T   \n",
       "\n",
       "  OrderPeriod  \n",
       "0     2017-09  \n",
       "1     2017-09  \n",
       "2     2017-07  \n",
       "3     2018-06  \n",
       "4     2017-04  "
      ]
     },
     "execution_count": 33,
     "metadata": {},
     "output_type": "execute_result"
    }
   ],
   "source": [
    "import pandas as pd\n",
    "import warnings\n",
    "warnings.filterwarnings('ignore')\n",
    "df = pd.read_csv(\"sales_data.csv\")\n",
    "df.head()"
   ]
  },
  {
   "cell_type": "code",
   "execution_count": 34,
   "metadata": {},
   "outputs": [
    {
     "data": {
      "text/plain": [
       "Index(['Unnamed: 0', 'InvoiceNo', 'StockCode', 'Quantity Shipped', ' Year ',\n",
       "       'Invoice Date', 'UnitPrice', ' Ext-Price ', 'CustomerID', 'Country',\n",
       "       'GM%', 'Shipper', 'COST', 'EXT COST', 'REGION', 'SALES P',\n",
       "       'OrderPeriod'],\n",
       "      dtype='object')"
      ]
     },
     "execution_count": 34,
     "metadata": {},
     "output_type": "execute_result"
    }
   ],
   "source": [
    "df.columns"
   ]
  },
  {
   "cell_type": "markdown",
   "metadata": {},
   "source": [
    "As usual, we have some cleaning to do, then create a new dataframe that only contains CustomerID, InvoiceDate (remove the time) and add a new column — sales:"
   ]
  },
  {
   "cell_type": "code",
   "execution_count": 35,
   "metadata": {},
   "outputs": [
    {
     "name": "stdout",
     "output_type": "stream",
     "text": [
      "   CustomerID Invoice Date  Sales\n",
      "0       16198   2017-09-25   5.00\n",
      "1       13405   2017-09-26   5.00\n",
      "2       15618   2017-07-26   5.00\n",
      "3       13952   2018-06-08   7.08\n",
      "4       13952   2017-04-15   5.00\n",
      "4146\n"
     ]
    }
   ],
   "source": [
    "import datetime as dt\n",
    "df['Invoice Date'] = pd.to_datetime(df['Invoice Date']).dt.date\n",
    "df = df[pd.notnull(df['CustomerID'])]\n",
    "df = df[(df['Quantity Shipped']>0)]\n",
    "df['Sales'] = df['Quantity Shipped'] * df['UnitPrice']\n",
    "cols_of_interest = ['CustomerID', 'Invoice Date', 'Sales']\n",
    "df = df[cols_of_interest]\n",
    "print(df.head())\n",
    "\n",
    "print(df['CustomerID'].nunique())"
   ]
  },
  {
   "cell_type": "markdown",
   "metadata": {},
   "source": [
    "### CLV Model Definition\n",
    "<br>\n",
    "**For the CLV models, the following nomenclature is used:**\n",
    "<br>\n",
    "\n",
    "> * *Frequency represents the number of repeat purchases the customer has made. This means that it’s one less than the total number of purchases.*\n",
    "<br>\n",
    "\n",
    "> * *T represents the age of the customer in whatever time units chosen (daily, in our dataset). This is equal to the duration between a customer’s first purchase and the end of the period under study.*\n",
    "<br>\n",
    "> * *Recency represents the age of the customer when they made their most recent purchases. This is equal to the duration between a customer’s first purchase and their latest purchase. (Thus if they have made only 1 purchase, the recency is 0.)*\n",
    "<br>\n",
    "\n",
    "**The following analysis is conducted in Python using Lifetimes packagedeveloped by Cameron Davidson-Pilon, data scientist at Shopify**\n",
    "<br>\n",
    "\n",
    "### Data Exploration"
   ]
  },
  {
   "cell_type": "code",
   "execution_count": 15,
   "metadata": {},
   "outputs": [
    {
     "name": "stdout",
     "output_type": "stream",
     "text": [
      "Collecting lifetimes\n",
      "  Using cached https://files.pythonhosted.org/packages/32/a7/0769293ffd5757bdbb626167b4361e46d353b028b4045a82aa2bae20e17e/Lifetimes-0.10.1-py3-none-any.whl\n",
      "Collecting scipy>=1.0.0 (from lifetimes)\n",
      "  Using cached https://files.pythonhosted.org/packages/b9/a2/62f77d2d3c42364d45ba714b4bdf7e1c4dfa67091dc9f614fa5a948b4fb4/scipy-1.2.1-cp36-cp36m-win_amd64.whl\n",
      "Collecting dill>=0.2.6 (from lifetimes)\n",
      "Requirement already satisfied: numpy>=1.10.0 in c:\\users\\prana\\appdata\\roaming\\python\\python36\\site-packages (from lifetimes) (1.14.3)\n",
      "Requirement already satisfied: pandas>=0.19 in c:\\program files\\anaconda3\\lib\\site-packages (from lifetimes) (0.23.4)\n",
      "Requirement already satisfied: python-dateutil>=2.5.0 in c:\\program files\\anaconda3\\lib\\site-packages (from pandas>=0.19->lifetimes) (2.7.5)\n",
      "Requirement already satisfied: pytz>=2011k in c:\\program files\\anaconda3\\lib\\site-packages (from pandas>=0.19->lifetimes) (2018.7)\n",
      "Requirement already satisfied: six>=1.5 in c:\\users\\prana\\appdata\\roaming\\python\\python36\\site-packages (from python-dateutil>=2.5.0->pandas>=0.19->lifetimes) (1.11.0)\n",
      "Installing collected packages: scipy, dill, lifetimes\n",
      "Successfully installed dill-0.2.9 lifetimes-0.10.1 scipy-1.2.1\n"
     ]
    },
    {
     "name": "stderr",
     "output_type": "stream",
     "text": [
      "You are using pip version 18.1, however version 19.0.2 is available.\n",
      "You should consider upgrading via the 'python -m pip install --upgrade pip' command.\n"
     ]
    }
   ],
   "source": [
    "!pip install lifetimes --user"
   ]
  },
  {
   "cell_type": "code",
   "execution_count": 36,
   "metadata": {},
   "outputs": [
    {
     "data": {
      "text/plain": [
       "CustomerID        int64\n",
       "Invoice Date     object\n",
       "Sales           float64\n",
       "dtype: object"
      ]
     },
     "execution_count": 36,
     "metadata": {},
     "output_type": "execute_result"
    }
   ],
   "source": [
    "df.dtypes"
   ]
  },
  {
   "cell_type": "code",
   "execution_count": 45,
   "metadata": {},
   "outputs": [
    {
     "data": {
      "text/html": [
       "<div>\n",
       "<style scoped>\n",
       "    .dataframe tbody tr th:only-of-type {\n",
       "        vertical-align: middle;\n",
       "    }\n",
       "\n",
       "    .dataframe tbody tr th {\n",
       "        vertical-align: top;\n",
       "    }\n",
       "\n",
       "    .dataframe thead th {\n",
       "        text-align: right;\n",
       "    }\n",
       "</style>\n",
       "<table border=\"1\" class=\"dataframe\">\n",
       "  <thead>\n",
       "    <tr style=\"text-align: right;\">\n",
       "      <th></th>\n",
       "      <th>CustomerID</th>\n",
       "      <th>Invoice Date</th>\n",
       "      <th>Sales</th>\n",
       "    </tr>\n",
       "  </thead>\n",
       "  <tbody>\n",
       "    <tr>\n",
       "      <th>0</th>\n",
       "      <td>16198</td>\n",
       "      <td>2017-09-25</td>\n",
       "      <td>5.00</td>\n",
       "    </tr>\n",
       "    <tr>\n",
       "      <th>1</th>\n",
       "      <td>13405</td>\n",
       "      <td>2017-09-26</td>\n",
       "      <td>5.00</td>\n",
       "    </tr>\n",
       "    <tr>\n",
       "      <th>2</th>\n",
       "      <td>15618</td>\n",
       "      <td>2017-07-26</td>\n",
       "      <td>5.00</td>\n",
       "    </tr>\n",
       "    <tr>\n",
       "      <th>3</th>\n",
       "      <td>13952</td>\n",
       "      <td>2018-06-08</td>\n",
       "      <td>7.08</td>\n",
       "    </tr>\n",
       "    <tr>\n",
       "      <th>4</th>\n",
       "      <td>13952</td>\n",
       "      <td>2017-04-15</td>\n",
       "      <td>5.00</td>\n",
       "    </tr>\n",
       "  </tbody>\n",
       "</table>\n",
       "</div>"
      ],
      "text/plain": [
       "   CustomerID Invoice Date  Sales\n",
       "0       16198   2017-09-25   5.00\n",
       "1       13405   2017-09-26   5.00\n",
       "2       15618   2017-07-26   5.00\n",
       "3       13952   2018-06-08   7.08\n",
       "4       13952   2017-04-15   5.00"
      ]
     },
     "execution_count": 45,
     "metadata": {},
     "output_type": "execute_result"
    }
   ],
   "source": [
    "df.head()"
   ]
  },
  {
   "cell_type": "code",
   "execution_count": 42,
   "metadata": {},
   "outputs": [],
   "source": [
    "df = df[pd.notnull(df['Invoice Date'])]"
   ]
  },
  {
   "cell_type": "code",
   "execution_count": 43,
   "metadata": {
    "collapsed": true
   },
   "outputs": [],
   "source": [
    "df['Invoice Date'] = pd.to_datetime(df['Invoice Date'])"
   ]
  },
  {
   "cell_type": "code",
   "execution_count": 44,
   "metadata": {},
   "outputs": [
    {
     "data": {
      "text/html": [
       "<div>\n",
       "<style scoped>\n",
       "    .dataframe tbody tr th:only-of-type {\n",
       "        vertical-align: middle;\n",
       "    }\n",
       "\n",
       "    .dataframe tbody tr th {\n",
       "        vertical-align: top;\n",
       "    }\n",
       "\n",
       "    .dataframe thead th {\n",
       "        text-align: right;\n",
       "    }\n",
       "</style>\n",
       "<table border=\"1\" class=\"dataframe\">\n",
       "  <thead>\n",
       "    <tr style=\"text-align: right;\">\n",
       "      <th></th>\n",
       "      <th>frequency</th>\n",
       "      <th>recency</th>\n",
       "      <th>T</th>\n",
       "      <th>monetary_value</th>\n",
       "    </tr>\n",
       "    <tr>\n",
       "      <th>CustomerID</th>\n",
       "      <th></th>\n",
       "      <th></th>\n",
       "      <th></th>\n",
       "      <th></th>\n",
       "    </tr>\n",
       "  </thead>\n",
       "  <tbody>\n",
       "    <tr>\n",
       "      <th>12346</th>\n",
       "      <td>1.0</td>\n",
       "      <td>476.0</td>\n",
       "      <td>708.0</td>\n",
       "      <td>750573.402500</td>\n",
       "    </tr>\n",
       "    <tr>\n",
       "      <th>12347</th>\n",
       "      <td>62.0</td>\n",
       "      <td>729.0</td>\n",
       "      <td>750.0</td>\n",
       "      <td>238.856391</td>\n",
       "    </tr>\n",
       "    <tr>\n",
       "      <th>12348</th>\n",
       "      <td>14.0</td>\n",
       "      <td>729.0</td>\n",
       "      <td>741.0</td>\n",
       "      <td>393.476198</td>\n",
       "    </tr>\n",
       "    <tr>\n",
       "      <th>12349</th>\n",
       "      <td>0.0</td>\n",
       "      <td>0.0</td>\n",
       "      <td>401.0</td>\n",
       "      <td>0.000000</td>\n",
       "    </tr>\n",
       "    <tr>\n",
       "      <th>12350</th>\n",
       "      <td>15.0</td>\n",
       "      <td>545.0</td>\n",
       "      <td>693.0</td>\n",
       "      <td>52.030497</td>\n",
       "    </tr>\n",
       "  </tbody>\n",
       "</table>\n",
       "</div>"
      ],
      "text/plain": [
       "            frequency  recency      T  monetary_value\n",
       "CustomerID                                           \n",
       "12346             1.0    476.0  708.0   750573.402500\n",
       "12347            62.0    729.0  750.0      238.856391\n",
       "12348            14.0    729.0  741.0      393.476198\n",
       "12349             0.0      0.0  401.0        0.000000\n",
       "12350            15.0    545.0  693.0       52.030497"
      ]
     },
     "execution_count": 44,
     "metadata": {},
     "output_type": "execute_result"
    }
   ],
   "source": [
    "#from lifetimes.plotting import *\n",
    "#from lifetimes.utils import *\n",
    "#from lifetimes.estimation import *\n",
    "#data = summary_data_from_transaction_data(df, 'CustomerID', 'Invoice Date', monetary_value_col='Sales')\n",
    "#data.head()"
   ]
  },
  {
   "cell_type": "code",
   "execution_count": null,
   "metadata": {
    "collapsed": true
   },
   "outputs": [],
   "source": []
  },
  {
   "cell_type": "markdown",
   "metadata": {},
   "source": [
    "There are 4146 customers under our analysis.\n",
    "\n",
    "CustomerID 12346 made 2 purchase only, so his frequency and recency are 1 and 476 respectively, and his age is 708 days (e.g. the duration between his first purchase and the end of the period in the analysis)."
   ]
  },
  {
   "cell_type": "code",
   "execution_count": 46,
   "metadata": {},
   "outputs": [
    {
     "name": "stdout",
     "output_type": "stream",
     "text": [
      "count    4146.000000\n",
      "mean       26.686204\n",
      "std        46.482316\n",
      "min         0.000000\n",
      "25%         1.000000\n",
      "50%         9.000000\n",
      "75%        32.000000\n",
      "max       433.000000\n",
      "Name: frequency, dtype: float64\n",
      "0.223589001447178\n"
     ]
    }
   ],
   "source": [
    "data['frequency'].plot(kind='hist', bins=50)\n",
    "print(data['frequency'].describe())\n",
    "print(sum(data['frequency'] == 0)/float(len(data)))"
   ]
  },
  {
   "cell_type": "markdown",
   "metadata": {},
   "source": [
    "Among all customers in our data, more than 22.36% of them only made purchase once (no repeat)."
   ]
  },
  {
   "cell_type": "markdown",
   "metadata": {},
   "source": [
    "### Frequency/Recency Analysis Using the BG/NBD Model"
   ]
  },
  {
   "cell_type": "code",
   "execution_count": 47,
   "metadata": {},
   "outputs": [
    {
     "name": "stdout",
     "output_type": "stream",
     "text": [
      "<lifetimes.BetaGeoFitter: fitted with 4146 subjects, a: 0.66, alpha: 8.56, b: 60.34, r: 0.38>\n"
     ]
    }
   ],
   "source": [
    "from lifetimes import BetaGeoFitter\n",
    "bgf = BetaGeoFitter(penalizer_coef=0.0)\n",
    "bgf.fit(data['frequency'], data['recency'], data['T'])\n",
    "print(bgf)"
   ]
  },
  {
   "cell_type": "markdown",
   "metadata": {},
   "source": [
    "### Visualizing our frequency/recency matrix\n",
    "\n",
    "\n",
    "*Consider: a customer has made purchase every day for four weeks straight, and then we haven’t heard from him in months. What are the chances he is still “alive”? Pretty small, right? * \n",
    "<br> \n",
    "\n",
    "*On the other hand, a customer who historically made purchase once a quarter, and again last quarter, is likely still alive. We can visualize this relationship using the frequency/recency matrix, which computes the expected number of transactions an artificial customer is to make in the next time period, given his recency (age at last purchase) and frequency (the number of repeat transactions he has made).*"
   ]
  },
  {
   "cell_type": "code",
   "execution_count": 52,
   "metadata": {},
   "outputs": [],
   "source": [
    "from lifetimes.plotting import plot_frequency_recency_matrix\n",
    "import matplotlib.pyplot as plt\n",
    "%matplotlib inline\n"
   ]
  },
  {
   "cell_type": "code",
   "execution_count": 51,
   "metadata": {},
   "outputs": [
    {
     "data": {
      "text/plain": [
       "<matplotlib.axes._subplots.AxesSubplot at 0x1fdb15ef710>"
      ]
     },
     "execution_count": 51,
     "metadata": {},
     "output_type": "execute_result"
    },
    {
     "data": {
      "image/png": "[encoded data removed]",
      "text/plain": [
       "<matplotlib.figure.Figure at 0x1fdbb4536a0>"
      ]
     },
     "metadata": {},
     "output_type": "display_data"
    }
   ],
   "source": [
    "fig = plt.figure(figsize=(8,8))\n",
    "plot_frequency_recency_matrix(bgf)"
   ]
  },
  {
   "cell_type": "code",
   "execution_count": 75,
   "metadata": {},
   "outputs": [
    {
     "data": {
      "text/html": [
       "<div>\n",
       "<style scoped>\n",
       "    .dataframe tbody tr th:only-of-type {\n",
       "        vertical-align: middle;\n",
       "    }\n",
       "\n",
       "    .dataframe tbody tr th {\n",
       "        vertical-align: top;\n",
       "    }\n",
       "\n",
       "    .dataframe thead th {\n",
       "        text-align: right;\n",
       "    }\n",
       "</style>\n",
       "<table border=\"1\" class=\"dataframe\">\n",
       "  <thead>\n",
       "    <tr style=\"text-align: right;\">\n",
       "      <th></th>\n",
       "      <th>frequency</th>\n",
       "      <th>recency</th>\n",
       "      <th>T</th>\n",
       "      <th>monetary_value</th>\n",
       "      <th>predicted_purchases</th>\n",
       "    </tr>\n",
       "    <tr>\n",
       "      <th>CustomerID</th>\n",
       "      <th></th>\n",
       "      <th></th>\n",
       "      <th></th>\n",
       "      <th></th>\n",
       "      <th></th>\n",
       "    </tr>\n",
       "  </thead>\n",
       "  <tbody>\n",
       "    <tr>\n",
       "      <th>14911</th>\n",
       "      <td>411.0</td>\n",
       "      <td>750.0</td>\n",
       "      <td>755.0</td>\n",
       "      <td>1430.588113</td>\n",
       "      <td>0.527518</td>\n",
       "    </tr>\n",
       "    <tr>\n",
       "      <th>17841</th>\n",
       "      <td>433.0</td>\n",
       "      <td>754.0</td>\n",
       "      <td>756.0</td>\n",
       "      <td>904.088685</td>\n",
       "      <td>0.564267</td>\n",
       "    </tr>\n",
       "  </tbody>\n",
       "</table>\n",
       "</div>"
      ],
      "text/plain": [
       "            frequency  recency      T  monetary_value  predicted_purchases\n",
       "CustomerID                                                                \n",
       "14911           411.0    750.0  755.0     1430.588113             0.527518\n",
       "17841           433.0    754.0  756.0      904.088685             0.564267"
      ]
     },
     "execution_count": 75,
     "metadata": {},
     "output_type": "execute_result"
    }
   ],
   "source": [
    "data[data['frequency'] >400]"
   ]
  },
  {
   "cell_type": "markdown",
   "metadata": {},
   "source": [
    "> * If a customer has made 400 and more purchases, and his latest purchase was when he was approximately 700 days old (i.e. Recency: the duration between her first transaction and her latest transaction is 700 days), then they are our best customers (bottom-right).\n",
    "\n",
    "> * Customers who have purchased a lot and purchased recently will likely be the best customers in the future. We will never have enough of them.\n",
    "\n",
    "> * Customers who have purchased a lot but not recently (top-right corner), have probably gone.\n",
    "\n",
    "> * There are also another type of customers that around (40, 650) that represents the customer who buys infrequently, and we have not seen him recently, so he might buy again. However, we are not sure if he has gone or just between purchases.\n",
    "\n",
    "**We can predict which customers are surely alive:**"
   ]
  },
  {
   "cell_type": "code",
   "execution_count": 59,
   "metadata": {},
   "outputs": [
    {
     "data": {
      "text/plain": [
       "<matplotlib.axes._subplots.AxesSubplot at 0x1fdbb505128>"
      ]
     },
     "execution_count": 59,
     "metadata": {},
     "output_type": "execute_result"
    },
    {
     "data": {
      "image/png": "[encoded data removed]",
      "text/plain": [
       "<matplotlib.figure.Figure at 0x1fdbb5965c0>"
      ]
     },
     "metadata": {},
     "output_type": "display_data"
    }
   ],
   "source": [
    "from lifetimes.plotting import plot_probability_alive_matrix\n",
    "fig = plt.figure(figsize=(12,8))\n",
    "plot_probability_alive_matrix(bgf)"
   ]
  },
  {
   "cell_type": "markdown",
   "metadata": {},
   "source": [
    "*Customers who have purchased recently are almost surely “alive”.*\n",
    "\n",
    "*Customers who have purchased a lot but not recently, are likely to have dropped out. And the more they bought in the past, the more likely they have dropped out. They are represented in the upper-right.*\n",
    "\n",
    "*We are ranking customers from “highest expected purchases in the next period” to lowest. Models expose a method that will predict a customer’s expected purchases in the next period using their history.*\n"
   ]
  },
  {
   "cell_type": "code",
   "execution_count": 60,
   "metadata": {},
   "outputs": [
    {
     "data": {
      "text/html": [
       "<div>\n",
       "<style scoped>\n",
       "    .dataframe tbody tr th:only-of-type {\n",
       "        vertical-align: middle;\n",
       "    }\n",
       "\n",
       "    .dataframe tbody tr th {\n",
       "        vertical-align: top;\n",
       "    }\n",
       "\n",
       "    .dataframe thead th {\n",
       "        text-align: right;\n",
       "    }\n",
       "</style>\n",
       "<table border=\"1\" class=\"dataframe\">\n",
       "  <thead>\n",
       "    <tr style=\"text-align: right;\">\n",
       "      <th></th>\n",
       "      <th>frequency</th>\n",
       "      <th>recency</th>\n",
       "      <th>T</th>\n",
       "      <th>monetary_value</th>\n",
       "      <th>predicted_purchases</th>\n",
       "    </tr>\n",
       "    <tr>\n",
       "      <th>CustomerID</th>\n",
       "      <th></th>\n",
       "      <th></th>\n",
       "      <th></th>\n",
       "      <th></th>\n",
       "      <th></th>\n",
       "    </tr>\n",
       "  </thead>\n",
       "  <tbody>\n",
       "    <tr>\n",
       "      <th>12748</th>\n",
       "      <td>348.0</td>\n",
       "      <td>751.0</td>\n",
       "      <td>755.0</td>\n",
       "      <td>556.528942</td>\n",
       "      <td>0.451530</td>\n",
       "    </tr>\n",
       "    <tr>\n",
       "      <th>15311</th>\n",
       "      <td>361.0</td>\n",
       "      <td>752.0</td>\n",
       "      <td>756.0</td>\n",
       "      <td>469.304420</td>\n",
       "      <td>0.467602</td>\n",
       "    </tr>\n",
       "    <tr>\n",
       "      <th>14606</th>\n",
       "      <td>396.0</td>\n",
       "      <td>750.0</td>\n",
       "      <td>752.0</td>\n",
       "      <td>504.695996</td>\n",
       "      <td>0.518837</td>\n",
       "    </tr>\n",
       "    <tr>\n",
       "      <th>14911</th>\n",
       "      <td>411.0</td>\n",
       "      <td>750.0</td>\n",
       "      <td>755.0</td>\n",
       "      <td>1430.588113</td>\n",
       "      <td>0.527518</td>\n",
       "    </tr>\n",
       "    <tr>\n",
       "      <th>17841</th>\n",
       "      <td>433.0</td>\n",
       "      <td>754.0</td>\n",
       "      <td>756.0</td>\n",
       "      <td>904.088685</td>\n",
       "      <td>0.564267</td>\n",
       "    </tr>\n",
       "  </tbody>\n",
       "</table>\n",
       "</div>"
      ],
      "text/plain": [
       "            frequency  recency      T  monetary_value  predicted_purchases\n",
       "CustomerID                                                                \n",
       "12748           348.0    751.0  755.0      556.528942             0.451530\n",
       "15311           361.0    752.0  756.0      469.304420             0.467602\n",
       "14606           396.0    750.0  752.0      504.695996             0.518837\n",
       "14911           411.0    750.0  755.0     1430.588113             0.527518\n",
       "17841           433.0    754.0  756.0      904.088685             0.564267"
      ]
     },
     "execution_count": 60,
     "metadata": {},
     "output_type": "execute_result"
    }
   ],
   "source": [
    "t = 1\n",
    "data['predicted_purchases'] = bgf.conditional_expected_number_of_purchases_up_to_time(t, data['frequency'], data['recency'], data['T'])\n",
    "data.sort_values(by='predicted_purchases').tail(5)"
   ]
  },
  {
   "cell_type": "code",
   "execution_count": 135,
   "metadata": {
    "collapsed": true
   },
   "outputs": [],
   "source": [
    "data.to_csv(\"RFM_customer_data.csv\")"
   ]
  },
  {
   "cell_type": "markdown",
   "metadata": {},
   "source": [
    "* Listed above are our top 5 customers that the model expects them to make purchases in the next day. \n",
    "\n",
    "* The predicted_purchases column represents their expected number of purchases while the other three columns represent their current RF metrics. \n",
    "\n",
    "* The BG/NBD model believes these individuals will be making more purchases within the near future as they are our current best customers.\n",
    "\n",
    "### Assessing model fit\n",
    "\n"
   ]
  },
  {
   "cell_type": "code",
   "execution_count": 61,
   "metadata": {},
   "outputs": [
    {
     "data": {
      "text/plain": [
       "<matplotlib.axes._subplots.AxesSubplot at 0x1fdb4b09710>"
      ]
     },
     "execution_count": 61,
     "metadata": {},
     "output_type": "execute_result"
    },
    {
     "data": {
      "image/png": "[encoded data removed]",
      "text/plain": [
       "<matplotlib.figure.Figure at 0x1fdbb35c7b8>"
      ]
     },
     "metadata": {},
     "output_type": "display_data"
    }
   ],
   "source": [
    "from lifetimes.plotting import plot_period_transactions\n",
    "plot_period_transactions(bgf)"
   ]
  },
  {
   "cell_type": "markdown",
   "metadata": {},
   "source": [
    "Not bad, out model does not suck. So, we can continue on with our analysis.\n",
    "\n",
    "We now partition the dataset into a calibration period dataset and a holdout dataset. This is important as we want to test how our model performs on data not yet seen (just like cross-validation in machine learning practice)."
   ]
  },
  {
   "cell_type": "code",
   "execution_count": 68,
   "metadata": {},
   "outputs": [
    {
     "name": "stdout",
     "output_type": "stream",
     "text": [
      "            frequency_cal  recency_cal  T_cal  frequency_holdout  \\\n",
      "CustomerID                                                         \n",
      "12346                 1.0        476.0  651.0                0.0   \n",
      "12347                58.0        665.0  693.0                4.0   \n",
      "12348                13.0        606.0  684.0                1.0   \n",
      "12349                 0.0          0.0  344.0                0.0   \n",
      "12350                15.0        545.0  636.0                0.0   \n",
      "\n",
      "            duration_holdout  \n",
      "CustomerID                    \n",
      "12346                     57  \n",
      "12347                     57  \n",
      "12348                     57  \n",
      "12349                     57  \n",
      "12350                     57  \n"
     ]
    }
   ],
   "source": [
    "from lifetimes.utils import calibration_and_holdout_data\n",
    "summary_cal_holdout = calibration_and_holdout_data(df, 'CustomerID', 'Invoice Date',\n",
    "                                        calibration_period_end='2018-10-31',\n",
    "                                        observation_period_end='2018-12-27' )   \n",
    "print(summary_cal_holdout.head())"
   ]
  },
  {
   "cell_type": "code",
   "execution_count": 69,
   "metadata": {},
   "outputs": [
    {
     "data": {
      "text/plain": [
       "<matplotlib.axes._subplots.AxesSubplot at 0x1fdd72bce48>"
      ]
     },
     "execution_count": 69,
     "metadata": {},
     "output_type": "execute_result"
    },
    {
     "data": {
      "image/png": "[encoded data removed]",
      "text/plain": [
       "<matplotlib.figure.Figure at 0x1fdc364d908>"
      ]
     },
     "metadata": {},
     "output_type": "display_data"
    }
   ],
   "source": [
    "from lifetimes.plotting import plot_calibration_purchases_vs_holdout_purchases\n",
    "bgf.fit(summary_cal_holdout['frequency_cal'], summary_cal_holdout['recency_cal'], summary_cal_holdout['T_cal'])\n",
    "plot_calibration_purchases_vs_holdout_purchases(bgf, summary_cal_holdout)"
   ]
  },
  {
   "cell_type": "markdown",
   "metadata": {},
   "source": [
    "In this plot, we separate the data into both a in-sample (calibration) and validation (holdout) period. The sample period consists the beginning to 2018–10–30; the validation period spans from 2018–11–01 to 2011–12–27. The plot groups all customers in the calibration period by their number of repeat purchases (x-axis) and then averages over their repeat purchases in the holdout period (y-axis). The green and blue line presents the model prediction and actual result of the y-axis respectively. As we can see, our model is able to very accurately predict the customer base’s behaviour out of the sample, the model overestimates after 3 purchases and under predicts at 6 purchases\n",
    "\n",
    "### Customer transactions predictions\n",
    "**Based on customer history, we can now predict what an individual’s future purchases might look like:**\n",
    "\n"
   ]
  },
  {
   "cell_type": "code",
   "execution_count": 82,
   "metadata": {},
   "outputs": [
    {
     "data": {
      "text/plain": [
       "5.66557062183062"
      ]
     },
     "execution_count": 82,
     "metadata": {},
     "output_type": "execute_result"
    }
   ],
   "source": [
    "t = 10\n",
    "individual = data.loc[17841]\n",
    "bgf.predict(t, individual['frequency'], individual['recency'], individual['T'])"
   ]
  },
  {
   "cell_type": "markdown",
   "metadata": {},
   "source": [
    "*Our model predicts that customer 17841’s expected no. of purchases is 5.67 in the next 10 days.*"
   ]
  },
  {
   "cell_type": "markdown",
   "metadata": {},
   "source": [
    "### Customer probability histories\n",
    "*Given a customer transaction history, we can calculate their historical probability of being alive, according to our trained model. For example, we want to look at our best customer’s transactions history and see the probability of being alive:*"
   ]
  },
  {
   "cell_type": "code",
   "execution_count": 84,
   "metadata": {},
   "outputs": [
    {
     "data": {
      "text/plain": [
       "<matplotlib.axes._subplots.AxesSubplot at 0x1fdda17d7b8>"
      ]
     },
     "execution_count": 84,
     "metadata": {},
     "output_type": "execute_result"
    },
    {
     "data": {
      "image/png": "[encoded data removed]",
      "text/plain": [
       "<matplotlib.figure.Figure at 0x1fdda288550>"
      ]
     },
     "metadata": {},
     "output_type": "display_data"
    }
   ],
   "source": [
    "from lifetimes.plotting import plot_history_alive\n",
    "import matplotlib.pyplot as plt\n",
    "fig = plt.figure(figsize=(12,8))\n",
    "id = 12748\n",
    "days_since_birth = 365\n",
    "sp_trans = df.loc[df['CustomerID'] == id]\n",
    "plot_history_alive(bgf, days_since_birth, sp_trans, 'Invoice Date')"
   ]
  },
  {
   "cell_type": "code",
   "execution_count": 117,
   "metadata": {},
   "outputs": [
    {
     "data": {
      "text/html": [
       "<div>\n",
       "<style scoped>\n",
       "    .dataframe tbody tr th:only-of-type {\n",
       "        vertical-align: middle;\n",
       "    }\n",
       "\n",
       "    .dataframe tbody tr th {\n",
       "        vertical-align: top;\n",
       "    }\n",
       "\n",
       "    .dataframe thead th {\n",
       "        text-align: right;\n",
       "    }\n",
       "</style>\n",
       "<table border=\"1\" class=\"dataframe\">\n",
       "  <thead>\n",
       "    <tr style=\"text-align: right;\">\n",
       "      <th></th>\n",
       "      <th>frequency</th>\n",
       "      <th>recency</th>\n",
       "      <th>T</th>\n",
       "      <th>monetary_value</th>\n",
       "      <th>predicted_purchases</th>\n",
       "    </tr>\n",
       "    <tr>\n",
       "      <th>CustomerID</th>\n",
       "      <th></th>\n",
       "      <th></th>\n",
       "      <th></th>\n",
       "      <th></th>\n",
       "      <th></th>\n",
       "    </tr>\n",
       "  </thead>\n",
       "  <tbody>\n",
       "    <tr>\n",
       "      <th>17602</th>\n",
       "      <td>84.0</td>\n",
       "      <td>342.0</td>\n",
       "      <td>504.0</td>\n",
       "      <td>150.619211</td>\n",
       "      <td>4.282911e-13</td>\n",
       "    </tr>\n",
       "    <tr>\n",
       "      <th>15922</th>\n",
       "      <td>231.0</td>\n",
       "      <td>605.0</td>\n",
       "      <td>695.0</td>\n",
       "      <td>562.072669</td>\n",
       "      <td>2.546860e-12</td>\n",
       "    </tr>\n",
       "    <tr>\n",
       "      <th>15464</th>\n",
       "      <td>106.0</td>\n",
       "      <td>546.0</td>\n",
       "      <td>721.0</td>\n",
       "      <td>95.202243</td>\n",
       "      <td>7.783238e-12</td>\n",
       "    </tr>\n",
       "    <tr>\n",
       "      <th>17537</th>\n",
       "      <td>49.0</td>\n",
       "      <td>177.0</td>\n",
       "      <td>318.0</td>\n",
       "      <td>49.155738</td>\n",
       "      <td>1.873274e-11</td>\n",
       "    </tr>\n",
       "    <tr>\n",
       "      <th>12501</th>\n",
       "      <td>93.0</td>\n",
       "      <td>524.0</td>\n",
       "      <td>698.0</td>\n",
       "      <td>146.488741</td>\n",
       "      <td>1.044325e-10</td>\n",
       "    </tr>\n",
       "    <tr>\n",
       "      <th>18212</th>\n",
       "      <td>35.0</td>\n",
       "      <td>177.0</td>\n",
       "      <td>344.0</td>\n",
       "      <td>57.007818</td>\n",
       "      <td>1.967885e-09</td>\n",
       "    </tr>\n",
       "    <tr>\n",
       "      <th>16222</th>\n",
       "      <td>90.0</td>\n",
       "      <td>545.0</td>\n",
       "      <td>701.0</td>\n",
       "      <td>160.553886</td>\n",
       "      <td>5.179283e-09</td>\n",
       "    </tr>\n",
       "    <tr>\n",
       "      <th>17555</th>\n",
       "      <td>32.0</td>\n",
       "      <td>177.0</td>\n",
       "      <td>350.0</td>\n",
       "      <td>60.666564</td>\n",
       "      <td>6.808994e-09</td>\n",
       "    </tr>\n",
       "    <tr>\n",
       "      <th>17609</th>\n",
       "      <td>92.0</td>\n",
       "      <td>560.0</td>\n",
       "      <td>710.0</td>\n",
       "      <td>57.149990</td>\n",
       "      <td>1.189705e-08</td>\n",
       "    </tr>\n",
       "    <tr>\n",
       "      <th>13334</th>\n",
       "      <td>93.0</td>\n",
       "      <td>546.0</td>\n",
       "      <td>688.0</td>\n",
       "      <td>277.114506</td>\n",
       "      <td>1.756909e-08</td>\n",
       "    </tr>\n",
       "    <tr>\n",
       "      <th>14049</th>\n",
       "      <td>85.0</td>\n",
       "      <td>545.0</td>\n",
       "      <td>700.0</td>\n",
       "      <td>556.431460</td>\n",
       "      <td>1.848394e-08</td>\n",
       "    </tr>\n",
       "    <tr>\n",
       "      <th>12539</th>\n",
       "      <td>130.0</td>\n",
       "      <td>592.0</td>\n",
       "      <td>699.0</td>\n",
       "      <td>151.659917</td>\n",
       "      <td>2.747690e-08</td>\n",
       "    </tr>\n",
       "    <tr>\n",
       "      <th>16771</th>\n",
       "      <td>126.0</td>\n",
       "      <td>608.0</td>\n",
       "      <td>721.0</td>\n",
       "      <td>258.726982</td>\n",
       "      <td>2.820002e-08</td>\n",
       "    </tr>\n",
       "    <tr>\n",
       "      <th>13548</th>\n",
       "      <td>56.0</td>\n",
       "      <td>178.0</td>\n",
       "      <td>261.0</td>\n",
       "      <td>48.958755</td>\n",
       "      <td>3.555328e-08</td>\n",
       "    </tr>\n",
       "    <tr>\n",
       "      <th>13708</th>\n",
       "      <td>42.0</td>\n",
       "      <td>176.0</td>\n",
       "      <td>288.0</td>\n",
       "      <td>32.843073</td>\n",
       "      <td>4.088879e-08</td>\n",
       "    </tr>\n",
       "    <tr>\n",
       "      <th>14096</th>\n",
       "      <td>11.0</td>\n",
       "      <td>97.0</td>\n",
       "      <td>484.0</td>\n",
       "      <td>15781.646365</td>\n",
       "      <td>5.989378e-08</td>\n",
       "    </tr>\n",
       "    <tr>\n",
       "      <th>15299</th>\n",
       "      <td>238.0</td>\n",
       "      <td>692.0</td>\n",
       "      <td>755.0</td>\n",
       "      <td>220.653199</td>\n",
       "      <td>1.710245e-07</td>\n",
       "    </tr>\n",
       "    <tr>\n",
       "      <th>13030</th>\n",
       "      <td>217.0</td>\n",
       "      <td>684.0</td>\n",
       "      <td>751.0</td>\n",
       "      <td>563.501946</td>\n",
       "      <td>2.293062e-07</td>\n",
       "    </tr>\n",
       "    <tr>\n",
       "      <th>14657</th>\n",
       "      <td>49.0</td>\n",
       "      <td>373.0</td>\n",
       "      <td>538.0</td>\n",
       "      <td>71.210403</td>\n",
       "      <td>2.909503e-07</td>\n",
       "    </tr>\n",
       "    <tr>\n",
       "      <th>16951</th>\n",
       "      <td>56.0</td>\n",
       "      <td>376.0</td>\n",
       "      <td>519.0</td>\n",
       "      <td>84.702082</td>\n",
       "      <td>3.384901e-07</td>\n",
       "    </tr>\n",
       "    <tr>\n",
       "      <th>16714</th>\n",
       "      <td>71.0</td>\n",
       "      <td>544.0</td>\n",
       "      <td>700.0</td>\n",
       "      <td>178.427140</td>\n",
       "      <td>3.887063e-07</td>\n",
       "    </tr>\n",
       "    <tr>\n",
       "      <th>17843</th>\n",
       "      <td>30.0</td>\n",
       "      <td>176.0</td>\n",
       "      <td>317.0</td>\n",
       "      <td>22.603348</td>\n",
       "      <td>4.097123e-07</td>\n",
       "    </tr>\n",
       "    <tr>\n",
       "      <th>16110</th>\n",
       "      <td>121.0</td>\n",
       "      <td>595.0</td>\n",
       "      <td>694.0</td>\n",
       "      <td>125.307377</td>\n",
       "      <td>4.647350e-07</td>\n",
       "    </tr>\n",
       "    <tr>\n",
       "      <th>17528</th>\n",
       "      <td>8.0</td>\n",
       "      <td>70.0</td>\n",
       "      <td>454.0</td>\n",
       "      <td>330.997860</td>\n",
       "      <td>6.502915e-07</td>\n",
       "    </tr>\n",
       "    <tr>\n",
       "      <th>13764</th>\n",
       "      <td>55.0</td>\n",
       "      <td>532.0</td>\n",
       "      <td>720.0</td>\n",
       "      <td>151.570582</td>\n",
       "      <td>8.725792e-07</td>\n",
       "    </tr>\n",
       "    <tr>\n",
       "      <th>16764</th>\n",
       "      <td>11.0</td>\n",
       "      <td>140.0</td>\n",
       "      <td>526.0</td>\n",
       "      <td>800.375395</td>\n",
       "      <td>1.062719e-06</td>\n",
       "    </tr>\n",
       "    <tr>\n",
       "      <th>13755</th>\n",
       "      <td>7.0</td>\n",
       "      <td>60.0</td>\n",
       "      <td>446.0</td>\n",
       "      <td>513.118145</td>\n",
       "      <td>1.407322e-06</td>\n",
       "    </tr>\n",
       "    <tr>\n",
       "      <th>13280</th>\n",
       "      <td>66.0</td>\n",
       "      <td>563.0</td>\n",
       "      <td>720.0</td>\n",
       "      <td>62.244841</td>\n",
       "      <td>1.742457e-06</td>\n",
       "    </tr>\n",
       "    <tr>\n",
       "      <th>14286</th>\n",
       "      <td>94.0</td>\n",
       "      <td>392.0</td>\n",
       "      <td>471.0</td>\n",
       "      <td>135.251417</td>\n",
       "      <td>1.912849e-06</td>\n",
       "    </tr>\n",
       "    <tr>\n",
       "      <th>18125</th>\n",
       "      <td>65.0</td>\n",
       "      <td>546.0</td>\n",
       "      <td>699.0</td>\n",
       "      <td>83.207370</td>\n",
       "      <td>2.100420e-06</td>\n",
       "    </tr>\n",
       "    <tr>\n",
       "      <th>16549</th>\n",
       "      <td>33.0</td>\n",
       "      <td>295.0</td>\n",
       "      <td>472.0</td>\n",
       "      <td>248.962870</td>\n",
       "      <td>2.126864e-06</td>\n",
       "    </tr>\n",
       "    <tr>\n",
       "      <th>12359</th>\n",
       "      <td>72.0</td>\n",
       "      <td>571.0</td>\n",
       "      <td>714.0</td>\n",
       "      <td>989.887125</td>\n",
       "      <td>2.328656e-06</td>\n",
       "    </tr>\n",
       "    <tr>\n",
       "      <th>17708</th>\n",
       "      <td>22.0</td>\n",
       "      <td>168.0</td>\n",
       "      <td>337.0</td>\n",
       "      <td>62.728327</td>\n",
       "      <td>2.370331e-06</td>\n",
       "    </tr>\n",
       "    <tr>\n",
       "      <th>13341</th>\n",
       "      <td>35.0</td>\n",
       "      <td>167.0</td>\n",
       "      <td>266.0</td>\n",
       "      <td>54.919461</td>\n",
       "      <td>2.475174e-06</td>\n",
       "    </tr>\n",
       "    <tr>\n",
       "      <th>13680</th>\n",
       "      <td>55.0</td>\n",
       "      <td>546.0</td>\n",
       "      <td>722.0</td>\n",
       "      <td>79.803772</td>\n",
       "      <td>3.080772e-06</td>\n",
       "    </tr>\n",
       "    <tr>\n",
       "      <th>13859</th>\n",
       "      <td>21.0</td>\n",
       "      <td>161.0</td>\n",
       "      <td>329.0</td>\n",
       "      <td>33.530805</td>\n",
       "      <td>3.113407e-06</td>\n",
       "    </tr>\n",
       "    <tr>\n",
       "      <th>13924</th>\n",
       "      <td>7.0</td>\n",
       "      <td>71.0</td>\n",
       "      <td>455.0</td>\n",
       "      <td>324.580625</td>\n",
       "      <td>3.580944e-06</td>\n",
       "    </tr>\n",
       "    <tr>\n",
       "      <th>17686</th>\n",
       "      <td>57.0</td>\n",
       "      <td>444.0</td>\n",
       "      <td>583.0</td>\n",
       "      <td>115.935541</td>\n",
       "      <td>3.614492e-06</td>\n",
       "    </tr>\n",
       "    <tr>\n",
       "      <th>14547</th>\n",
       "      <td>6.0</td>\n",
       "      <td>51.0</td>\n",
       "      <td>437.0</td>\n",
       "      <td>639.586790</td>\n",
       "      <td>3.750572e-06</td>\n",
       "    </tr>\n",
       "    <tr>\n",
       "      <th>12578</th>\n",
       "      <td>57.0</td>\n",
       "      <td>553.0</td>\n",
       "      <td>721.0</td>\n",
       "      <td>136.416459</td>\n",
       "      <td>4.163901e-06</td>\n",
       "    </tr>\n",
       "  </tbody>\n",
       "</table>\n",
       "</div>"
      ],
      "text/plain": [
       "            frequency  recency      T  monetary_value  predicted_purchases\n",
       "CustomerID                                                                \n",
       "17602            84.0    342.0  504.0      150.619211         4.282911e-13\n",
       "15922           231.0    605.0  695.0      562.072669         2.546860e-12\n",
       "15464           106.0    546.0  721.0       95.202243         7.783238e-12\n",
       "17537            49.0    177.0  318.0       49.155738         1.873274e-11\n",
       "12501            93.0    524.0  698.0      146.488741         1.044325e-10\n",
       "18212            35.0    177.0  344.0       57.007818         1.967885e-09\n",
       "16222            90.0    545.0  701.0      160.553886         5.179283e-09\n",
       "17555            32.0    177.0  350.0       60.666564         6.808994e-09\n",
       "17609            92.0    560.0  710.0       57.149990         1.189705e-08\n",
       "13334            93.0    546.0  688.0      277.114506         1.756909e-08\n",
       "14049            85.0    545.0  700.0      556.431460         1.848394e-08\n",
       "12539           130.0    592.0  699.0      151.659917         2.747690e-08\n",
       "16771           126.0    608.0  721.0      258.726982         2.820002e-08\n",
       "13548            56.0    178.0  261.0       48.958755         3.555328e-08\n",
       "13708            42.0    176.0  288.0       32.843073         4.088879e-08\n",
       "14096            11.0     97.0  484.0    15781.646365         5.989378e-08\n",
       "15299           238.0    692.0  755.0      220.653199         1.710245e-07\n",
       "13030           217.0    684.0  751.0      563.501946         2.293062e-07\n",
       "14657            49.0    373.0  538.0       71.210403         2.909503e-07\n",
       "16951            56.0    376.0  519.0       84.702082         3.384901e-07\n",
       "16714            71.0    544.0  700.0      178.427140         3.887063e-07\n",
       "17843            30.0    176.0  317.0       22.603348         4.097123e-07\n",
       "16110           121.0    595.0  694.0      125.307377         4.647350e-07\n",
       "17528             8.0     70.0  454.0      330.997860         6.502915e-07\n",
       "13764            55.0    532.0  720.0      151.570582         8.725792e-07\n",
       "16764            11.0    140.0  526.0      800.375395         1.062719e-06\n",
       "13755             7.0     60.0  446.0      513.118145         1.407322e-06\n",
       "13280            66.0    563.0  720.0       62.244841         1.742457e-06\n",
       "14286            94.0    392.0  471.0      135.251417         1.912849e-06\n",
       "18125            65.0    546.0  699.0       83.207370         2.100420e-06\n",
       "16549            33.0    295.0  472.0      248.962870         2.126864e-06\n",
       "12359            72.0    571.0  714.0      989.887125         2.328656e-06\n",
       "17708            22.0    168.0  337.0       62.728327         2.370331e-06\n",
       "13341            35.0    167.0  266.0       54.919461         2.475174e-06\n",
       "13680            55.0    546.0  722.0       79.803772         3.080772e-06\n",
       "13859            21.0    161.0  329.0       33.530805         3.113407e-06\n",
       "13924             7.0     71.0  455.0      324.580625         3.580944e-06\n",
       "17686            57.0    444.0  583.0      115.935541         3.614492e-06\n",
       "14547             6.0     51.0  437.0      639.586790         3.750572e-06\n",
       "12578            57.0    553.0  721.0      136.416459         4.163901e-06"
      ]
     },
     "execution_count": 117,
     "metadata": {},
     "output_type": "execute_result"
    }
   ],
   "source": [
    "data.sort_values(by='predicted_purchases').head(40)"
   ]
  },
  {
   "cell_type": "markdown",
   "metadata": {},
   "source": [
    "#### Our best customer is definitely alive, however, he had several hiatus in the first quarter of each year."
   ]
  },
  {
   "cell_type": "code",
   "execution_count": 126,
   "metadata": {},
   "outputs": [
    {
     "data": {
      "text/plain": [
       "<matplotlib.axes._subplots.AxesSubplot at 0x1fde58707f0>"
      ]
     },
     "execution_count": 126,
     "metadata": {},
     "output_type": "execute_result"
    },
    {
     "data": {
      "image/png": "[encoded data removed]",
      "text/plain": [
       "<matplotlib.figure.Figure at 0x1fde5870a58>"
      ]
     },
     "metadata": {},
     "output_type": "display_data"
    }
   ],
   "source": [
    "fig = plt.figure(figsize=(12,8))\n",
    "id = 13755\n",
    "days_since_birth = 430\n",
    "sp_trans = df.loc[df['CustomerID'] == id]\n",
    "plot_history_alive(bgf, days_since_birth, sp_trans, 'Invoice Date')"
   ]
  },
  {
   "cell_type": "markdown",
   "metadata": {},
   "source": [
    "On the other hand, this customer had only purchased once and has dropped off for a long time with a 100% chance that he is dead.\n",
    "\n",
    "Estimating customer lifetime value using gamma-gamma model of monetary value\n",
    "We are now taking into account the economic value of each transaction. To estimate this we use the Gamma-Gamma submodel presented by Dr. Peter Fader and Dr. Bruce Hardie from Wharton, to predict likely spend per transaction in the future at the customer level.\n",
    "\n",
    "We are only estimating the customers who had at least one repeat purchase with us. Therefore, we are estimating for 3,219 customers."
   ]
  },
  {
   "cell_type": "code",
   "execution_count": 127,
   "metadata": {},
   "outputs": [
    {
     "name": "stdout",
     "output_type": "stream",
     "text": [
      "            frequency  recency      T  monetary_value  predicted_purchases\n",
      "CustomerID                                                                \n",
      "12346             1.0    476.0  708.0   750573.402500             0.001893\n",
      "12347            62.0    729.0  750.0      238.856391             0.079720\n",
      "12348            14.0    729.0  741.0      393.476198             0.018970\n",
      "12350            15.0    545.0  693.0       52.030497             0.016364\n",
      "12352            16.0    579.0  679.0       98.164835             0.021366\n",
      "3219\n"
     ]
    }
   ],
   "source": [
    "returning_customers_summary = data[data['frequency']>0]\n",
    "print(returning_customers_summary.head())\n",
    "print(len(returning_customers_summary))"
   ]
  },
  {
   "cell_type": "code",
   "execution_count": 128,
   "metadata": {},
   "outputs": [
    {
     "name": "stdout",
     "output_type": "stream",
     "text": [
      "<lifetimes.GammaGammaFitter: fitted with 3219 subjects, p: 0.52, q: 1.67, v: 402.53>\n"
     ]
    }
   ],
   "source": [
    "from lifetimes import GammaGammaFitter\n",
    "ggf = GammaGammaFitter(penalizer_coef = 0)\n",
    "ggf.fit(returning_customers_summary['frequency'],\n",
    "        returning_customers_summary['monetary_value'])\n",
    "print(ggf)"
   ]
  },
  {
   "cell_type": "markdown",
   "metadata": {},
   "source": [
    "After applying Gamma-Gamma model, now we can estimate average transaction value for each customer. Phew!"
   ]
  },
  {
   "cell_type": "code",
   "execution_count": 132,
   "metadata": {},
   "outputs": [],
   "source": [
    "Avg_transaction_customer = ggf.conditional_expected_average_profit(\n",
    "        data['frequency'],\n",
    "        data['monetary_value']\n",
    "    ).sort_values(ascending = False)"
   ]
  },
  {
   "cell_type": "code",
   "execution_count": 133,
   "metadata": {
    "collapsed": true
   },
   "outputs": [],
   "source": [
    "Avg_transaction_customer.to_csv(\"Average_transaction_by_each_customer.csv\")"
   ]
  },
  {
   "cell_type": "code",
   "execution_count": 134,
   "metadata": {},
   "outputs": [
    {
     "data": {
      "text/plain": [
       "CustomerID\n",
       "12346    325471.697223\n",
       "15098    169096.815761\n",
       "13452     25795.879589\n",
       "14096     14137.949299\n",
       "15510     12055.592730\n",
       "dtype: float64"
      ]
     },
     "execution_count": 134,
     "metadata": {},
     "output_type": "execute_result"
    }
   ],
   "source": [
    "Avg_transaction_customer.head()"
   ]
  },
  {
   "cell_type": "code",
   "execution_count": 136,
   "metadata": {},
   "outputs": [
    {
     "data": {
      "text/html": [
       "<div>\n",
       "<style scoped>\n",
       "    .dataframe tbody tr th:only-of-type {\n",
       "        vertical-align: middle;\n",
       "    }\n",
       "\n",
       "    .dataframe tbody tr th {\n",
       "        vertical-align: top;\n",
       "    }\n",
       "\n",
       "    .dataframe thead th {\n",
       "        text-align: right;\n",
       "    }\n",
       "</style>\n",
       "<table border=\"1\" class=\"dataframe\">\n",
       "  <thead>\n",
       "    <tr style=\"text-align: right;\">\n",
       "      <th></th>\n",
       "      <th>frequency</th>\n",
       "      <th>recency</th>\n",
       "      <th>T</th>\n",
       "      <th>monetary_value</th>\n",
       "      <th>predicted_purchases</th>\n",
       "    </tr>\n",
       "    <tr>\n",
       "      <th>CustomerID</th>\n",
       "      <th></th>\n",
       "      <th></th>\n",
       "      <th></th>\n",
       "      <th></th>\n",
       "      <th></th>\n",
       "    </tr>\n",
       "  </thead>\n",
       "  <tbody>\n",
       "    <tr>\n",
       "      <th>12748</th>\n",
       "      <td>348.0</td>\n",
       "      <td>751.0</td>\n",
       "      <td>755.0</td>\n",
       "      <td>556.528942</td>\n",
       "      <td>4.558707</td>\n",
       "    </tr>\n",
       "    <tr>\n",
       "      <th>15311</th>\n",
       "      <td>361.0</td>\n",
       "      <td>752.0</td>\n",
       "      <td>756.0</td>\n",
       "      <td>469.304420</td>\n",
       "      <td>4.722542</td>\n",
       "    </tr>\n",
       "    <tr>\n",
       "      <th>14606</th>\n",
       "      <td>396.0</td>\n",
       "      <td>750.0</td>\n",
       "      <td>752.0</td>\n",
       "      <td>504.695996</td>\n",
       "      <td>5.209137</td>\n",
       "    </tr>\n",
       "    <tr>\n",
       "      <th>14911</th>\n",
       "      <td>411.0</td>\n",
       "      <td>750.0</td>\n",
       "      <td>755.0</td>\n",
       "      <td>1430.588113</td>\n",
       "      <td>5.379681</td>\n",
       "    </tr>\n",
       "    <tr>\n",
       "      <th>17841</th>\n",
       "      <td>433.0</td>\n",
       "      <td>754.0</td>\n",
       "      <td>756.0</td>\n",
       "      <td>904.088685</td>\n",
       "      <td>5.665571</td>\n",
       "    </tr>\n",
       "  </tbody>\n",
       "</table>\n",
       "</div>"
      ],
      "text/plain": [
       "            frequency  recency      T  monetary_value  predicted_purchases\n",
       "CustomerID                                                                \n",
       "12748           348.0    751.0  755.0      556.528942             4.558707\n",
       "15311           361.0    752.0  756.0      469.304420             4.722542\n",
       "14606           396.0    750.0  752.0      504.695996             5.209137\n",
       "14911           411.0    750.0  755.0     1430.588113             5.379681\n",
       "17841           433.0    754.0  756.0      904.088685             5.665571"
      ]
     },
     "execution_count": 136,
     "metadata": {},
     "output_type": "execute_result"
    }
   ],
   "source": [
    "t = 10\n",
    "data['predicted_purchases'] = bgf.conditional_expected_number_of_purchases_up_to_time(t, data['frequency'], data['recency'], data['T'])\n",
    "data.sort_values(by='predicted_purchases').tail(5)"
   ]
  },
  {
   "cell_type": "code",
   "execution_count": 138,
   "metadata": {},
   "outputs": [],
   "source": [
    "data.to_csv(\"customer_predicted_purchases_in_next_10_days.csv\")"
   ]
  }
 ],
 "metadata": {
  "kernelspec": {
   "display_name": "Python 3",
   "language": "python",
   "name": "python3"
  },
  "language_info": {
   "codemirror_mode": {
    "name": "ipython",
    "version": 3
   },
   "file_extension": ".py",
   "mimetype": "text/x-python",
   "name": "python",
   "nbconvert_exporter": "python",
   "pygments_lexer": "ipython3",
   "version": "3.6.1"
  }
 },
 "nbformat": 4,
 "nbformat_minor": 2
}
